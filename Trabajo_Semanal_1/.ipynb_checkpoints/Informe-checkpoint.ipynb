{
 "cells": [
  {
   "cell_type": "markdown",
   "metadata": {},
   "source": [
    "<div align=\"right\"><a href=\"https://github.com/lucasliano/TC2\">TCII Github</a></div>\n",
    "\n",
    "<div align=\"center\">\n",
    "    <h1>Trabajo Semanal</h1>\n",
    "    <h2>Amplificadores Operacionales Reales</h2>\n",
    "    <h3>Liaño, Lucas</h3>\n",
    "</div>\n",
    "\n",
    "## Consigna  <span class=\"label label-default\">New</span>\n",
    "\n",
    "\n",
    "**Obligatorio**: Ejercicio 7.a del TP1.\n",
    "\n",
    "![Consigna Obligatoria](Consigna.png)\n",
    "\n",
    "**Bonus**: \n",
    "\n",
    "- Normalización en frecuencia\n",
    "- Simulación matemática\n",
    "- Simulación circuital\n",
    "- Presentación en jupyter notebook \n",
    "\n",
    "<div class=\"alert alert-info\">\n",
    "    <strong>Nota:</strong> Agrego algunos elementos para practicar Markdown + HTML y de paso genero un template para los próximos trabajos. Espero que les guste 😊\n",
    "</div>\n",
    "\n",
    "\n",
    "## Metodología de Resolución\n",
    "\n",
    "El ejercicio se va a resolver en los siguientes pasos:\n",
    "\n",
    "1. Se resolverá el circuito con la misma metodología utilizada en TC1, donde se considera al OPAMP como ideal, obteniendo así el diagrama de polos y ceros correspondiente junto con el diagrama de bode asociado. \n",
    "\n",
    "2. Se utilizará la técnica explicada en clase para considerar al amplificador como real, al menos mediante la aproximación del circuito integrador.\n",
    "\n",
    "3. Se exportan los resultados obtenidos para realizar la simulación computarizada en este mismo notebook.\n",
    "\n",
    "4. Se comparan los resultados obtenidos con la simulación del circuito en LTSpice."
   ]
  },
  {
   "cell_type": "markdown",
   "metadata": {},
   "source": [
    "## Resolución a Mano\n",
    "\n",
    "### Amplificador operacional ideal\n",
    "\n",
    "### Amplificador operacional real"
   ]
  },
  {
   "cell_type": "code",
   "execution_count": 5,
   "metadata": {},
   "outputs": [],
   "source": [
    "import numpy as np\n",
    "import matplotlib.pyplot as plt"
   ]
  }
 ],
 "metadata": {
  "kernelspec": {
   "display_name": "Python 3",
   "language": "python",
   "name": "python3"
  },
  "language_info": {
   "codemirror_mode": {
    "name": "ipython",
    "version": 3
   },
   "file_extension": ".py",
   "mimetype": "text/x-python",
   "name": "python",
   "nbconvert_exporter": "python",
   "pygments_lexer": "ipython3",
   "version": "3.8.5"
  }
 },
 "nbformat": 4,
 "nbformat_minor": 4
}
